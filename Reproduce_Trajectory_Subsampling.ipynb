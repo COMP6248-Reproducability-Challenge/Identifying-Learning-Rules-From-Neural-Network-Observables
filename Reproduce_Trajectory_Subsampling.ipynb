{
  "nbformat": 4,
  "nbformat_minor": 0,
  "metadata": {
    "colab": {
      "name": "Reproduce - Trajectory Subsampling.ipynb",
      "provenance": [],
      "collapsed_sections": []
    },
    "kernelspec": {
      "display_name": "Python 3",
      "name": "python3"
    },
    "language_info": {
      "name": "python"
    }
  },
  "cells": [
    {
      "cell_type": "code",
      "metadata": {
        "colab": {
          "base_uri": "https://localhost:8080/"
        },
        "id": "0bsxgKsUUH8g",
        "outputId": "a3ee3ec6-773d-48b8-c3f6-5bb1d177819e"
      },
      "source": [
        "!git clone https://github.com/neuroailab/lr-identify\n",
        "%cd lr-identify"
      ],
      "execution_count": null,
      "outputs": [
        {
          "output_type": "stream",
          "text": [
            "Cloning into 'lr-identify'...\n",
            "remote: Enumerating objects: 44, done.\u001b[K\n",
            "remote: Counting objects: 100% (44/44), done.\u001b[K\n",
            "remote: Compressing objects: 100% (36/36), done.\u001b[K\n",
            "remote: Total 44 (delta 8), reused 34 (delta 4), pack-reused 0\u001b[K\n",
            "Unpacking objects: 100% (44/44), done.\n",
            "/content/lr-identify\n"
          ],
          "name": "stdout"
        }
      ]
    },
    {
      "cell_type": "code",
      "metadata": {
        "id": "y8f0c0vAULhc"
      },
      "source": [
        "import numpy as np\n",
        "import pickle\n",
        "import matplotlib.pyplot as plt"
      ],
      "execution_count": null,
      "outputs": []
    },
    {
      "cell_type": "code",
      "metadata": {
        "colab": {
          "base_uri": "https://localhost:8080/"
        },
        "id": "gI2OjpCSUNXA",
        "outputId": "10061517-9563-4bcf-c1dd-9f5aea5103db"
      },
      "source": [
        "!bash get_dataset.sh"
      ],
      "execution_count": null,
      "outputs": [ 
        {
          "output_type": "stream",
          "text": [
            "  % Total    % Received % Xferd  Average Speed   Time    Time     Time  Current\n",
            "                                 Dload  Upload   Total   Spent    Left  Speed\n",
            "100  511M  100  511M    0     0  37.3M      0  0:00:13  0:00:13 --:--:-- 41.1M\n"
          ],
          "name": "stdout"
        }
      ]
    },
    {
      "cell_type": "code",
      "metadata": {
        "id": "GwyJ3zhoUQNf"
      },
      "source": [
        "data = pickle.load(open('dataset.pkl', 'rb'), encoding='latin1')"
      ],
      "execution_count": null,
      "outputs": []
    },
    {
      "cell_type": "code",
      "metadata": {
        "colab": {
          "base_uri": "https://localhost:8080/"
        },
        "id": "Q4D5-lvcUQxa",
        "outputId": "8ce6d334-8134-4b52-e383-2de4c733dbb9"
      },
      "source": [
        "data.keys()"
      ],
      "execution_count": null,
      "outputs": [
        {
          "output_type": "execute_result",
          "data": {
            "text/plain": [
              "dict_keys(['Y', 'X', 'X_cat', 'meta', 'obs_keys'])"
            ]
          },
          "metadata": {
            "tags": []
          },
          "execution_count": 5
        }
      ]
    },
    {
      "cell_type": "markdown",
      "metadata": {
        "id": "2Fbxemw_lYzh"
      },
      "source": [
        "# **Trajectory Subsampling**"
      ]
    },
    {
      "cell_type": "code",
      "metadata": {
        "id": "ZFvQjkyGvfIg"
      },
      "source": [
        "traj_origin = np.arange(0, 21, 1)\n",
        "slice_inter = slice(0, 21, 3)\n",
        "slice_sparse = slice(0, 21, 5)\n",
        "\n",
        "traj_dense = traj_origin\n",
        "traj_inter = traj_origin[slice_inter]\n",
        "traj_sparse = traj_origin[slice_sparse]"
      ],
      "execution_count": null,
      "outputs": []
    },
    {
      "cell_type": "code",
      "metadata": {
        "id": "4VAX3A3d8Bdj"
      },
      "source": [
        "num_sample = [2, 4, 6, 9, 11, 13, 16, 18, 21]\n",
        "X = data['X']\n",
        "\n",
        "i_idx = np.arange(X.shape[0])\n",
        "z_idx = np.arange(X.shape[2])\n",
        "\n",
        "def subsamplingX(traj_list, X_sub):\n",
        "  for idx, num in enumerate(num_sample):\n",
        "    j_idx = traj_list[0:num]\n",
        "    if len(j_idx)==num: \n",
        "      i,j,z = np.ix_(i_idx, j_idx, z_idx)\n",
        "      X_sub[idx] = X[i, j, z]\n",
        "  return X_sub"
      ],
      "execution_count": null,
      "outputs": []
    },
    {
      "cell_type": "code",
      "metadata": {
        "id": "acHV0XntlYJR"
      },
      "source": [
        "traj_dense = traj_origin\n",
        "traj_inter = traj_origin[slice_inter]\n",
        "traj_sparse = traj_origin[slice_sparse]\n",
        "\n",
        "X_dense = {}\n",
        "X_inter = {}\n",
        "X_sparse = {}\n",
        "\n",
        "X_dense = subsamplingX(traj_dense, X_dense)\n",
        "X_inter = subsamplingX(traj_inter, X_inter)\n",
        "X_sparse = subsamplingX(traj_sparse, X_sparse)"
      ],
      "execution_count": null,
      "outputs": []
    },
    {
      "cell_type": "code",
      "metadata": {
        "id": "DG56NNn_seZN"
      },
      "source": [
        "data_dense = {}\n",
        "data_inter = {}\n",
        "data_sparse = {}\n",
        "\n",
        "def constructData(X_sub, data_dict):\n",
        "  for key, value in X_sub.items():\n",
        "    data_copy = data.copy()\n",
        "    data_copy.pop('X')\n",
        "    data_copy['X'] = value\n",
        "    data_dict[key] = data_copy\n",
        "  return data_dict\n",
        "\n",
        "data_dense = constructData(X_dense, data_dense)\n",
        "data_inter = constructData(X_inter, data_inter)\n",
        "data_sparse = constructData(X_sparse, data_sparse)"
      ],
      "execution_count": null,
      "outputs": []
    },
    {
      "cell_type": "code",
      "metadata": {
        "id": "nSnztWELeJEj"
      },
      "source": [
        "### Train/test Filter\n",
        "#\n",
        "learning_rules = ['adam', 'sgdm', 'information', 'feedback']\n",
        "task_filter = ['audionet', 'cifar10', 'imagenet', 'simclr']\n",
        "cls_filter = lambda x: (x['learning_rule'] in learning_rules) and (x['task'] in task_filter)"
      ],
      "execution_count": null,
      "outputs": []
    },
    {
      "cell_type": "code",
      "metadata": {
        "id": "J4zbsf0beHym"
      },
      "source": [
        "from cross_validation import get_possible_inds\n",
        "\n",
        "cls_filter_first_lr = lambda x: (x['learning_rule'] == learning_rules[0]) and (x['task'] in task_filter)\n",
        "cls_filter_first_lr_indices = get_possible_inds(data['meta'], cls_filter_first_lr)"
      ],
      "execution_count": null,
      "outputs": []
    },
    {
      "cell_type": "code",
      "metadata": {
        "id": "lNcYGnrCetyh"
      },
      "source": [
        "num_total_per_class = len(cls_filter_first_lr_indices)\n",
        "num_total_examples =  num_total_per_class * len(learning_rules)\n",
        "# sanity check for category balanced data\n",
        "assert(num_total_examples == len(get_possible_inds(data['meta'], cls_filter)))\n",
        "# now we compute num per class train and test\n",
        "train_frac = 0.75\n",
        "num_per_class_train = (int)(np.ceil(train_frac*num_total_per_class))\n",
        "num_per_class_test = num_total_per_class - num_per_class_train"
      ],
      "execution_count": null,
      "outputs": []
    },
    {
      "cell_type": "code",
      "metadata": {
        "id": "V_3GvDCsd0D-"
      },
      "source": [
        "from fit_pipeline import PipelineClassifier\n",
        "from functools import partial\n",
        "\n",
        "classifier_type = partial(PipelineClassifier, estimators=[('cls', 'randomforest')]) # create a classifier - random forest\n",
        "cv_param_grid = {'cls__max_features': ['sqrt', 'log2'], 'cls__n_estimators': [20, 50]}"
      ],
      "execution_count": null,
      "outputs": []
    },
    {
      "cell_type": "markdown",
      "metadata": {
        "id": "JL9WJVI8YnNU"
      },
      "source": [
        "**Start Training**"
      ]
    },
    {
      "cell_type": "code",
      "metadata": {
        "id": "j2YKm485Yr8R"
      },
      "source": [
        "from fit_pipeline import ObsClassifier\n",
        "\n",
        "def trajSubsamplingTrain(data_sub, cls_out_test_acc_dict, mark):\n",
        "  for key in cls_out_test_acc_dict.keys():\n",
        "    print(mark+\" Subsampling Training on \"+key+\" start.\" )\n",
        "    test_acc_list = cls_out_test_acc_dict[key]\n",
        "    for d_key, d_sub in data_sub.items():\n",
        "      print(\"Index \"+str(d_key)+\", start.\")\n",
        "      cls_out_sub = ObsClassifier(\n",
        "                      classifier_type=classifier_type, # 'randomforest' in this case\n",
        "                      num_splits=10, # number of train/test splits\n",
        "                      num_per_class_train=num_per_class_train, \n",
        "                      num_per_class_test=num_per_class_test,\n",
        "                      train_filter=cls_filter,\n",
        "                      test_filter=cls_filter, \n",
        "                      data=d_sub, # the subsampled data\n",
        "                      cls_dataset_transform_kwargs={'obs_measure': key, 'num_dims': 2},\n",
        "                      cv_param_grid=cv_param_grid, # cross validation search space\n",
        "                      verbose=False)\n",
        "      test_mean_acc = cls_out_sub.results['test']['mean_accuracy']\n",
        "      test_acc_list.append(test_mean_acc)\n",
        "      print(\"Index \"+str(d_key)+\", end.\")\n",
        "    cls_out_test_acc_dict[key] = test_acc_list\n",
        "    print(mark+\" Subsampling Training on \"+key+\" end.\" )\n",
        "  return cls_out_test_acc_dict\n"
      ],
      "execution_count": null,
      "outputs": []
    },
    {
      "cell_type": "code",
      "metadata": {
        "id": "xZyr9VigCfyP"
      },
      "source": [
        "cls_out_test_acc_dense = {'all':[], 'weight':[], 'act':[], 'grad':[]}\n",
        "cls_out_test_acc_inter = {'all':[], 'weight':[], 'act':[], 'grad':[]}\n",
        "cls_out_test_acc_sparse = {'all':[], 'weight':[], 'act':[], 'grad':[]}"
      ],
      "execution_count": null,
      "outputs": []
    },
    {
      "cell_type": "code",
      "metadata": {
        "id": "vUSgvflv8-P6",
        "colab": {
          "base_uri": "https://localhost:8080/"
        },
        "outputId": "dfd53aa2-aea8-43de-e421-385b44f2eecd"
      },
      "source": [
        "print(\"===Trajectory Subsampling Start===\")\n",
        "cls_out_test_acc_dense = trajSubsamplingTrain(data_dense, cls_out_test_acc_dense, \"Dense\")"
      ],
      "execution_count": null,
      "outputs": [
        {
          "output_type": "stream",
          "text": [
            "===Trajectory Subsampling Start===\n",
            "Dense Subsampling Training on all start.\n",
            "Index 0, start.\n",
            "Index 0, end.\n",
            "Index 1, start.\n",
            "Index 1, end.\n",
            "Index 2, start.\n",
            "Index 2, end.\n",
            "Index 3, start.\n",
            "Index 3, end.\n",
            "Index 4, start.\n",
            "Index 4, end.\n",
            "Index 5, start.\n",
            "Index 5, end.\n",
            "Index 6, start.\n",
            "Index 6, end.\n",
            "Index 7, start.\n",
            "Index 7, end.\n",
            "Index 8, start.\n",
            "Index 8, end.\n",
            "Dense Subsampling Training on all end.\n",
            "Dense Subsampling Training on weight start.\n",
            "Index 0, start.\n",
            "Index 0, end.\n",
            "Index 1, start.\n",
            "Index 1, end.\n",
            "Index 2, start.\n",
            "Index 2, end.\n",
            "Index 3, start.\n",
            "Index 3, end.\n",
            "Index 4, start.\n",
            "Index 4, end.\n",
            "Index 5, start.\n",
            "Index 5, end.\n",
            "Index 6, start.\n",
            "Index 6, end.\n",
            "Index 7, start.\n",
            "Index 7, end.\n",
            "Index 8, start.\n",
            "Index 8, end.\n",
            "Dense Subsampling Training on weight end.\n",
            "Dense Subsampling Training on act start.\n",
            "Index 0, start.\n",
            "Index 0, end.\n",
            "Index 1, start.\n",
            "Index 1, end.\n",
            "Index 2, start.\n",
            "Index 2, end.\n",
            "Index 3, start.\n",
            "Index 3, end.\n",
            "Index 4, start.\n",
            "Index 4, end.\n",
            "Index 5, start.\n",
            "Index 5, end.\n",
            "Index 6, start.\n",
            "Index 6, end.\n",
            "Index 7, start.\n",
            "Index 7, end.\n",
            "Index 8, start.\n",
            "Index 8, end.\n",
            "Dense Subsampling Training on act end.\n",
            "Dense Subsampling Training on grad start.\n",
            "Index 0, start.\n",
            "Index 0, end.\n",
            "Index 1, start.\n",
            "Index 1, end.\n",
            "Index 2, start.\n",
            "Index 2, end.\n",
            "Index 3, start.\n",
            "Index 3, end.\n",
            "Index 4, start.\n",
            "Index 4, end.\n",
            "Index 5, start.\n",
            "Index 5, end.\n",
            "Index 6, start.\n",
            "Index 6, end.\n",
            "Index 7, start.\n",
            "Index 7, end.\n",
            "Index 8, start.\n",
            "Index 8, end.\n",
            "Dense Subsampling Training on grad end.\n"
          ],
          "name": "stdout"
        }
      ]
    },
    {
      "cell_type": "code",
      "metadata": {
        "colab": {
          "background_save": true,
          "base_uri": "https://localhost:8080/"
        },
        "id": "YcFs50hD7SoE",
        "outputId": "375e7841-b0c7-4a4a-af07-ae475f873ea1"
      },
      "source": [
        "cls_out_test_acc_inter = trajSubsamplingTrain(data_inter, cls_out_test_acc_inter, \"Intermediate\")"
      ],
      "execution_count": null,
      "outputs": [
        {
          "output_type": "stream",
          "text": [
            "Intermediate Subsampling Training on all start.\n",
            "Index 0, start.\n",
            "Index 0, end.\n",
            "Index 1, start.\n",
            "Index 1, end.\n",
            "Index 2, start.\n",
            "Index 2, end.\n",
            "Intermediate Subsampling Training on all end.\n",
            "Intermediate Subsampling Training on weight start.\n",
            "Index 0, start.\n",
            "Index 0, end.\n",
            "Index 1, start.\n",
            "Index 1, end.\n",
            "Index 2, start.\n",
            "Index 2, end.\n",
            "Intermediate Subsampling Training on weight end.\n",
            "Intermediate Subsampling Training on act start.\n",
            "Index 0, start.\n",
            "Index 0, end.\n",
            "Index 1, start.\n",
            "Index 1, end.\n",
            "Index 2, start.\n",
            "Index 2, end.\n",
            "Intermediate Subsampling Training on act end.\n",
            "Intermediate Subsampling Training on grad start.\n",
            "Index 0, start.\n",
            "Index 0, end.\n",
            "Index 1, start.\n",
            "Index 1, end.\n",
            "Index 2, start.\n",
            "Index 2, end.\n",
            "Intermediate Subsampling Training on grad end.\n"
          ],
          "name": "stdout"
        }
      ]
    },
    {
      "cell_type": "code",
      "metadata": {
        "colab": {
          "base_uri": "https://localhost:8080/"
        },
        "id": "JFs7dLRf7U6Z",
        "outputId": "950c87e3-59e6-4b0e-a243-bc47076a4322"
      },
      "source": [
        "cls_out_test_acc_sparse = trajSubsamplingTrain(data_sparse, cls_out_test_acc_sparse, \"Sparse\")\n",
        "print(\"===Trajectory Subsampling End===\")"
      ],
      "execution_count": null,
      "outputs": [
        {
          "output_type": "stream",
          "text": [
            "Sparse Subsampling Training on all start.\n",
            "Index 0, start.\n",
            "Index 0, end.\n",
            "Index 1, start.\n",
            "Index 1, end.\n",
            "Sparse Subsampling Training on all end.\n",
            "Sparse Subsampling Training on weight start.\n",
            "Index 0, start.\n",
            "Index 0, end.\n",
            "Index 1, start.\n",
            "Index 1, end.\n",
            "Sparse Subsampling Training on weight end.\n",
            "Sparse Subsampling Training on act start.\n",
            "Index 0, start.\n",
            "Index 0, end.\n",
            "Index 1, start.\n",
            "Index 1, end.\n",
            "Sparse Subsampling Training on act end.\n",
            "Sparse Subsampling Training on grad start.\n",
            "Index 0, start.\n",
            "Index 0, end.\n",
            "Index 1, start.\n",
            "Index 1, end.\n",
            "Sparse Subsampling Training on grad end.\n",
            "===Trajectory Subsampling End===\n"
          ],
          "name": "stdout"
        }
      ]
    },
    {
      "cell_type": "code",
      "metadata": {
        "id": "KeO0CDWfjJ0W",
        "colab": {
          "base_uri": "https://localhost:8080/",
          "height": 356
        },
        "outputId": "bf80b679-70e4-4035-a66a-40b57856ef43"
      },
      "source": [
        "%matplotlib inline\n",
        "\n",
        "import matplotlib.pyplot as plt\n",
        "from matplotlib.pyplot import MultipleLocator\n",
        "\n",
        "def setXlabel(traj_list):\n",
        "  x_forshow = []\n",
        "  i = 0\n",
        "  for num in num_sample:\n",
        "    if num<=len(traj_list):\n",
        "      x_forshow.append(round(num/len(traj_origin)*100))\n",
        "      i += 1\n",
        "  return x_forshow\n",
        "\n",
        "def setXValue(out_acc):\n",
        "  x_value = []\n",
        "  for acc in out_acc['all']:\n",
        "    x_value.append(out_acc['all'].index(acc))\n",
        "    \n",
        "  return x_value\n",
        "\n",
        "x_dense_forshow = setXlabel(traj_dense)\n",
        "x_dense_value = setXValue(cls_out_test_acc_dense)\n",
        "x_inter_forshow = setXlabel(traj_inter)\n",
        "x_inter_value = setXValue(cls_out_test_acc_inter)\n",
        "x_sparse_forshow = setXlabel(traj_sparse)\n",
        "x_sparse_value = setXValue(cls_out_test_acc_sparse)\n",
        "\n",
        "fig, ax = plt.subplots(nrows=1, ncols=3, figsize=(16, 5))\n",
        "ax[0].plot(cls_out_test_acc_dense['all'], label = \"All Observables\")\n",
        "ax[0].plot(cls_out_test_acc_dense['act'], label = \"Activation\")\n",
        "ax[0].plot(cls_out_test_acc_dense['weight'], label = \"Weights\")\n",
        "ax[0].plot(cls_out_test_acc_dense['grad'], label = \"Lay_wise Activity Changes\")\n",
        "ax[0].set_ylim(0.5, 1.0)\n",
        "ax[0].set_title(\"Dense Subsampling\", fontsize=16)\n",
        "ax[0].set_xticks(x_dense_value)\n",
        "ax[0].set_xticklabels(x_dense_forshow)\n",
        "ax[0].legend(loc=\"lower right\")\n",
        "ax[0].set_ylabel(\"Test Accuracy\", fontsize=18)\n",
        "\n",
        "ax[1].plot(cls_out_test_acc_inter['all'], label = \"All Observables\")\n",
        "ax[1].plot(cls_out_test_acc_inter['act'], label = \"Activation\")\n",
        "ax[1].plot(cls_out_test_acc_inter['weight'], label = \"Weights\")\n",
        "ax[1].plot(cls_out_test_acc_inter['grad'], label = \"Lay_wise Activity Changes\")\n",
        "ax[1].set_ylim(0.5, 1.0)\n",
        "ax[1].set_title(\"Intermediate Subsampling\", fontsize=16)\n",
        "ax[1].set_xticks(x_inter_value)\n",
        "ax[1].set_xticklabels(x_inter_forshow)\n",
        "ax[1].legend(loc=\"lower right\")\n",
        "\n",
        "ax[2].plot(cls_out_test_acc_sparse['all'], label = \"All Observables\")\n",
        "ax[2].plot(cls_out_test_acc_sparse['act'], label = \"Activation\")\n",
        "ax[2].plot(cls_out_test_acc_sparse['weight'], label = \"Weights\")\n",
        "ax[2].plot(cls_out_test_acc_sparse['grad'], label = \"Lay_wise Activity Changes\")\n",
        "ax[2].set_ylim(0.5, 1.0)\n",
        "ax[2].set_title(\"Sparse Subsampling\", fontsize=16)\n",
        "ax[2].set_xticks(x_sparse_value)\n",
        "ax[2].set_xticklabels(x_sparse_forshow)\n",
        "ax[2].legend(loc=\"lower right\")\n"
      ],
      "execution_count": null,
      "outputs": [
        {
          "output_type": "execute_result",
          "data": {
            "text/plain": [
              "<matplotlib.legend.Legend at 0x7fb94db76890>"
            ]
          },
          "metadata": {
            "tags": []
          },
          "execution_count": 104
        },
        {
          "output_type": "display_data",
          "data": {
            "image/png": "[encoded data removed]",
            "text/plain": [
              "<Figure size 1152x360 with 3 Axes>"
            ]
          },
          "metadata": {
            "tags": [],
            "needs_background": "light"
          }
        }
      ]
    }
  ]
}
