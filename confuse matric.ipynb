{
  "nbformat": 4,
  "nbformat_minor": 0,
  "metadata": {
    "colab": {
      "name": "「LRIdentify_Tutorial.ipynb」的副本",
      "provenance": [],
      "collapsed_sections": [],
      "toc_visible": true
    },
    "kernelspec": {
      "name": "python3",
      "display_name": "Python 3"
    }
  },
  "cells": [
    {
      "cell_type": "code",
      "metadata": {
        "id": "hKgNOKUegwYa",
        "colab": {
          "base_uri": "https://localhost:8080/",
          "height": 131
        },
        "outputId": "fdbe5bbf-9ca1-4b7b-e1b0-4ca0ba605251"
      },
      "source": [
        "!git clone https://github.com/neuroailab/lr-identify\n",
        "%cd lr-identify"
      ],
      "execution_count": null,
      "outputs": [
        {
          "output_type": "stream",
          "text": [
            "Cloning into 'lr-identify'...\n",
            "remote: Enumerating objects: 35, done.\u001b[K\n",
            "remote: Counting objects: 100% (35/35), done.\u001b[K\n",
            "remote: Compressing objects: 100% (29/29), done.\u001b[K\n",
            "remote: Total 35 (delta 2), reused 32 (delta 2), pack-reused 0\u001b[K\n",
            "Unpacking objects: 100% (35/35), done.\n",
            "/content/lr-identify\n"
          ],
          "name": "stdout"
        }
      ]
    },
    {
      "cell_type": "code",
      "metadata": {
        "id": "Dqiowh9GIGxY"
      },
      "source": [
        "import numpy as np\n",
        "import pickle\n",
        "import matplotlib.pyplot as plt"
      ],
      "execution_count": null,
      "outputs": []
    },
    {
      "cell_type": "code",
      "metadata": {
        "id": "qpGPpmzMTG4h",
        "colab": {
          "base_uri": "https://localhost:8080/",
          "height": 66
        },
        "outputId": "3e9b3532-b396-4345-9ffa-ee67b84c6324"
      },
      "source": [
        "!bash get_dataset.sh"
      ],
      "execution_count": null,
      "outputs": [
        {
          "output_type": "stream",
          "text": [
            "  % Total    % Received % Xferd  Average Speed   Time    Time     Time  Current\n",
            "                                 Dload  Upload   Total   Spent    Left  Speed\n",
            "100  511M  100  511M    0     0  88.9M      0  0:00:05  0:00:05 --:--:-- 95.3M\n"
          ],
          "name": "stdout"
        }
      ]
    },
    {
      "cell_type": "code",
      "metadata": {
        "id": "tsaTZlYCTJY_"
      },
      "source": [
        "data = pickle.load(open('dataset.pkl', 'rb'), encoding='latin1')"
      ],
      "execution_count": null,
      "outputs": []
    },
    {
      "cell_type": "code",
      "metadata": {
        "id": "vEMjY0-0h0bK",
        "colab": {
          "base_uri": "https://localhost:8080/",
          "height": 33
        },
        "outputId": "6a9c43cf-5258-4725-ccc9-f58859c4fde6"
      },
      "source": [
        "data.keys()"
      ],
      "execution_count": null,
      "outputs": [
        {
          "output_type": "execute_result",
          "data": {
            "text/plain": [
              "dict_keys(['Y', 'X', 'X_cat', 'meta', 'obs_keys'])"
            ]
          },
          "metadata": {
            "tags": []
          },
          "execution_count": 5
        }
      ]
    },
    {
      "cell_type": "code",
      "metadata": {
        "id": "2AqZGyHvBKjQ",
        "colab": {
          "base_uri": "https://localhost:8080/",
          "height": 33
        },
        "outputId": "bcf698d3-3b93-4de2-cfe9-d4e560967476"
      },
      "source": [
        "data['X'].shape"
      ],
      "execution_count": null,
      "outputs": [
        {
          "output_type": "execute_result",
          "data": {
            "text/plain": [
              "(20736, 21, 45)"
            ]
          },
          "metadata": {
            "tags": []
          },
          "execution_count": 6
        }
      ]
    },
    {
      "cell_type": "code",
      "metadata": {
        "id": "eEuxiXasBN-E",
        "colab": {
          "base_uri": "https://localhost:8080/",
          "height": 33
        },
        "outputId": "2b7a1f22-9344-4b27-e177-ff45afb86cca"
      },
      "source": [
        "data['X_cat'].shape"
      ],
      "execution_count": null,
      "outputs": [
        {
          "output_type": "execute_result",
          "data": {
            "text/plain": [
              "(20736, 21, 3)"
            ]
          },
          "metadata": {
            "tags": []
          },
          "execution_count": 7
        }
      ]
    },
    {
      "cell_type": "code",
      "metadata": {
        "id": "2K41Wz7yBi4Y",
        "colab": {
          "base_uri": "https://localhost:8080/",
          "height": 33
        },
        "outputId": "ee121ae2-2580-470c-df96-3b86622e2866"
      },
      "source": [
        "data['Y'].shape"
      ],
      "execution_count": null,
      "outputs": [
        {
          "output_type": "execute_result",
          "data": {
            "text/plain": [
              "(20736,)"
            ]
          },
          "metadata": {
            "tags": []
          },
          "execution_count": 8
        }
      ]
    },
    {
      "cell_type": "code",
      "metadata": {
        "id": "EVEwl6C8BluF",
        "colab": {
          "base_uri": "https://localhost:8080/",
          "height": 33
        },
        "outputId": "124a1e33-1c09-4d2d-f76a-793a9836f310"
      },
      "source": [
        "np.unique(data['Y'])"
      ],
      "execution_count": null,
      "outputs": [
        {
          "output_type": "execute_result",
          "data": {
            "text/plain": [
              "array(['adam', 'feedback', 'information', 'sgdm'], dtype='<U11')"
            ]
          },
          "metadata": {
            "tags": []
          },
          "execution_count": 9
        }
      ]
    },
    {
      "cell_type": "code",
      "metadata": {
        "id": "aVhXkThCirXx",
        "colab": {
          "base_uri": "https://localhost:8080/",
          "height": 245
        },
        "outputId": "c639ebaf-e807-416a-b041-e8aef3e2a5d7"
      },
      "source": [
        "data['obs_keys']"
      ],
      "execution_count": null,
      "outputs": [
        {
          "output_type": "execute_result",
          "data": {
            "text/plain": [
              "array(['weightabs_kurtosis', 'weightabs_mean', 'weightabs_median',\n",
              "       'weightabs_norm', 'weightabs_skew', 'weightabs_thirdquartile',\n",
              "       'weightabs_var', 'weightraw_kurtosis', 'weightraw_mean',\n",
              "       'weightraw_median', 'weightraw_norm', 'weightraw_skew',\n",
              "       'weightraw_thirdquartile', 'weightraw_var', 'weightsq_kurtosis',\n",
              "       'weightsq_mean', 'weightsq_median', 'weightsq_norm',\n",
              "       'weightsq_skew', 'weightsq_thirdquartile', 'weightsq_var',\n",
              "       'actabs_kurtosis', 'actabs_mean', 'actabs_median', 'actabs_norm',\n",
              "       'actabs_skew', 'actabs_thirdquartile', 'actabs_var',\n",
              "       'actraw_kurtosis', 'actraw_mean', 'actraw_median', 'actraw_norm',\n",
              "       'actraw_skew', 'actraw_thirdquartile', 'actraw_var',\n",
              "       'actsq_kurtosis', 'actsq_mean', 'actsq_median', 'actsq_norm',\n",
              "       'actsq_skew', 'actsq_thirdquartile', 'actsq_var', 'gradavgabs_id',\n",
              "       'gradavgraw_id', 'gradavgsq_id'], dtype='<U23')"
            ]
          },
          "metadata": {
            "tags": []
          },
          "execution_count": 10
        }
      ]
    },
    {
      "cell_type": "code",
      "metadata": {
        "id": "1Ez5jDpJiyib",
        "colab": {
          "base_uri": "https://localhost:8080/",
          "height": 167
        },
        "outputId": "2118a145-32a0-44b8-f3c6-abda360c3318"
      },
      "source": [
        "data['meta']"
      ],
      "execution_count": null,
      "outputs": [
        {
          "output_type": "execute_result",
          "data": {
            "text/plain": [
              "rec.array([('imagenet', 0, 'adam', None, 21, 0, 'resnet18', 256, 'block_group1_0/conv2'),\n",
              "           ('imagenet', 0, 'adam', None, 21, 0, 'resnet18', 256, 'block_group1_0/conv0'),\n",
              "           ('imagenet', 0, 'adam', None, 21, 0, 'resnet18', 256, 'block_group1_0/conv1'),\n",
              "           ...,\n",
              "           ('audionet', 0, 'information', None, 21, None, 'alexnet', 512, 'conv1'),\n",
              "           ('audionet', 0, 'information', None, 21, None, 'alexnet', 512, 'conv5'),\n",
              "           ('audionet', 0, 'information', None, 21, None, 'alexnet', 512, 'conv4')],\n",
              "          dtype=[('task', '<U8'), ('start_idxs', '<i8'), ('learning_rule', '<U11'), ('dataset_seed', 'O'), ('end_idxs', '<i8'), ('model_seed', 'O'), ('architecture', '<U10'), ('batch_size', '<i8'), ('layer_name', '<U21')])"
            ]
          },
          "metadata": {
            "tags": []
          },
          "execution_count": 11
        }
      ]
    },
    {
      "cell_type": "code",
      "metadata": {
        "id": "Y2FtC2ekFqYe",
        "colab": {
          "base_uri": "https://localhost:8080/",
          "height": 82
        },
        "outputId": "6a74accc-0939-4ccd-9ab4-aada49d96251"
      },
      "source": [
        "print('Architectures: {} \\n'.format(np.unique(data['meta']['architecture'])))\n",
        "print('Tasks: {}'.format(np.unique(data['meta']['task'])))"
      ],
      "execution_count": null,
      "outputs": [
        {
          "output_type": "stream",
          "text": [
            "Architectures: ['alexnet' 'alexnetlrn' 'knet' 'knetc4' 'knetc4lrn' 'knetlrn' 'resnet18'\n",
            " 'resnet18v2' 'resnet34' 'resnet34v2'] \n",
            "\n",
            "Tasks: ['audionet' 'cifar10' 'imagenet' 'simclr']\n"
          ],
          "name": "stdout"
        }
      ]
    },
    {
      "cell_type": "code",
      "metadata": {
        "id": "ThI-eFCDwKbV"
      },
      "source": [
        "from cross_validation import get_possible_inds\n",
        "\n",
        "def filter_inds(learning_rule,\n",
        "              architectures=['resnet18'],\n",
        "              tasks=['imagenet'],\n",
        "              dataset_seeds=[None],\n",
        "              model_seeds=[None],\n",
        "              batch_sizes=[256],\n",
        "              layer_names=['conv0']):\n",
        "  \n",
        "  '''Helper function to subselect the data by, defaults to the first layer of \n",
        "  ResNet18 trained on ImageNet with a batch size of 256 \n",
        "  and non-deterministic dataset randomization seed and model seed.'''\n",
        "\n",
        "  if not isinstance(architectures, list):\n",
        "      architectures = [architectures]\n",
        "  if not isinstance(tasks, list):\n",
        "      tasks = [tasks]\n",
        "  if not isinstance(dataset_seeds, list):\n",
        "      dataset_seeds = [dataset_seeds]\n",
        "  if not isinstance(model_seeds, list):\n",
        "      model_seeds = [model_seeds]\n",
        "  if not isinstance(batch_sizes, list):\n",
        "      batch_sizes = [batch_sizes]\n",
        "  if not isinstance(layer_names, list):\n",
        "      layer_names = [layer_names]\n",
        "\n",
        "  filter = lambda x: (x['learning_rule'] == learning_rule) \\\n",
        "                   and (x['architecture'] in architectures) \\\n",
        "                   and (x['task'] in tasks) \\\n",
        "                   and (x['dataset_seed'] in dataset_seeds) \\\n",
        "                   and (x['model_seed'] in model_seeds) \\\n",
        "                   and (x['batch_size'] in batch_sizes) \\\n",
        "                   and (x['layer_name'] in layer_names)\n",
        "\n",
        "  inds = get_possible_inds(metadata=data['meta'], filter=filter)\n",
        "  return np.squeeze(inds)"
      ],
      "execution_count": null,
      "outputs": []
    },
    {
      "cell_type": "code",
      "metadata": {
        "id": "omhsYpIGNnzE",
        "colab": {
          "base_uri": "https://localhost:8080/",
          "height": 163
        },
        "outputId": "910febdf-dd79-44d3-fee6-6ffc4b654916"
      },
      "source": [
        "!bash get_saved_results.sh"
      ],
      "execution_count": null,
      "outputs": [
        {
          "output_type": "stream",
          "text": [
            "  % Total    % Received % Xferd  Average Speed   Time    Time     Time  Current\n",
            "                                 Dload  Upload   Total   Spent    Left  Speed\n",
            "100 82.6M  100 82.6M    0     0  67.4M      0  0:00:01  0:00:01 --:--:-- 67.4M\n",
            "  % Total    % Received % Xferd  Average Speed   Time    Time     Time  Current\n",
            "                                 Dload  Upload   Total   Spent    Left  Speed\n",
            "100 29574  100 29574    0     0   131k      0 --:--:-- --:--:-- --:--:--  131k\n",
            "  % Total    % Received % Xferd  Average Speed   Time    Time     Time  Current\n",
            "                                 Dload  Upload   Total   Spent    Left  Speed\n",
            "100 34261  100 34261    0     0   150k      0 --:--:-- --:--:-- --:--:--  150k\n"
          ],
          "name": "stdout"
        }
      ]
    },
    {
      "cell_type": "code",
      "metadata": {
        "id": "2ukbHV69RyDy"
      },
      "source": [
        "randomforest_results = pickle.load(open('saved_classifier_results/randomforest_allobs_results.pkl', 'rb'), encoding='latin1')"
      ],
      "execution_count": null,
      "outputs": []
    },
    {
      "cell_type": "code",
      "metadata": {
        "id": "SY-R5F6LQ1pe",
        "colab": {
          "base_uri": "https://localhost:8080/",
          "height": 33
        },
        "outputId": "c1807e3a-d13a-44ef-8b7a-88e0f1f4050b"
      },
      "source": [
        "randomforest_results['test']['mean_accuracy']"
      ],
      "execution_count": null,
      "outputs": [
        {
          "output_type": "execute_result",
          "data": {
            "text/plain": [
              "0.9966049382716049"
            ]
          },
          "metadata": {
            "tags": []
          },
          "execution_count": 17
        }
      ]
    },
    {
      "cell_type": "code",
      "metadata": {
        "id": "UQ0ttg4jRAN1",
        "colab": {
          "base_uri": "https://localhost:8080/",
          "height": 33
        },
        "outputId": "405c9baf-fefc-44ec-87bd-2a2eaca1c9e1"
      },
      "source": [
        "# this will yield the same as the 'mean_accuray' above\n",
        "np.mean(randomforest_results['test']['accuracy_by_split'])"
      ],
      "execution_count": null,
      "outputs": [
        {
          "output_type": "execute_result",
          "data": {
            "text/plain": [
              "0.9966049382716049"
            ]
          },
          "metadata": {
            "tags": []
          },
          "execution_count": 18
        }
      ]
    },
    {
      "cell_type": "code",
      "metadata": {
        "id": "UswBxjCSRiY9",
        "colab": {
          "base_uri": "https://localhost:8080/",
          "height": 180
        },
        "outputId": "d27d011f-b57a-48b6-8a12-6529f6170d8e"
      },
      "source": [
        "randomforest_results['cv_params']"
      ],
      "execution_count": null,
      "outputs": [
        {
          "output_type": "execute_result",
          "data": {
            "text/plain": [
              "[{'cls__max_features': 'sqrt', 'cls__n_estimators': 1000},\n",
              " {'cls__max_features': 'log2', 'cls__n_estimators': 1000},\n",
              " {'cls__max_features': 'sqrt', 'cls__n_estimators': 1000},\n",
              " {'cls__max_features': 'sqrt', 'cls__n_estimators': 100},\n",
              " {'cls__max_features': 'log2', 'cls__n_estimators': 1000},\n",
              " {'cls__max_features': 'log2', 'cls__n_estimators': 1000},\n",
              " {'cls__max_features': 'sqrt', 'cls__n_estimators': 500},\n",
              " {'cls__max_features': 'log2', 'cls__n_estimators': 1000},\n",
              " {'cls__max_features': 'sqrt', 'cls__n_estimators': 100},\n",
              " {'cls__max_features': 'log2', 'cls__n_estimators': 100}]"
            ]
          },
          "metadata": {
            "tags": []
          },
          "execution_count": 19
        }
      ]
    },
    {
      "cell_type": "code",
      "metadata": {
        "id": "xKB9EwfrN9_0",
        "colab": {
          "base_uri": "https://localhost:8080/",
          "height": 33
        },
        "outputId": "17520938-fc50-43a4-c6cb-aaa655e5f8f4"
      },
      "source": [
        "randomforest_results['test'].keys()"
      ],
      "execution_count": null,
      "outputs": [
        {
          "output_type": "execute_result",
          "data": {
            "text/plain": [
              "dict_keys(['mean_dprime', 'confusion_matrices', 'labels', 'mean_balanced_accuracy', 'mean_accuracy', 'dprime_by_split', 'balanced_acc_by_split', 'accuracy_by_split'])"
            ]
          },
          "metadata": {
            "tags": []
          },
          "execution_count": 20
        }
      ]
    },
    {
      "cell_type": "code",
      "metadata": {
        "id": "RMxAcR6Ch5tx",
        "colab": {
          "base_uri": "https://localhost:8080/",
          "height": 632
        },
        "outputId": "1b48e008-7f0f-4ff4-83e9-33d909ad3a99"
      },
      "source": [
        "# average across train/test splits\n",
        "meansp_confmat = np.mean(np.stack(randomforest_results['test']['confusion_matrices'], axis=0), axis=0)\n",
        "# normalize rows of confusion matrix\n",
        "meansp_confmat = meansp_confmat.astype(float) / meansp_confmat.sum(1)\n",
        "# get class labels\n",
        "class_labels = randomforest_results['test']['labels']\n",
        "\n",
        "# now do the actual plotting\n",
        "fig, axes = plt.subplots(1, 1, figsize=(12.5, 10))\n",
        "ax = plt.subplot(1, 1, 1)\n",
        "im = ax.imshow(meansp_confmat, cmap=plt.get_cmap('viridis'))\n",
        "# label ticks with class labels\n",
        "ax.set_xticks(np.arange(len(list(class_labels))))\n",
        "ax.set_yticks(np.arange(len(list(class_labels))))\n",
        "ax.set_xticklabels(class_labels, \n",
        "                   fontsize=22.5, fontweight='bold')\n",
        "ax.set_yticklabels(class_labels, \n",
        "                   fontsize=22.5, fontweight='bold')\n",
        "# x and y labels\n",
        "ax.set_xlabel('Predicted Class', fontsize=25, fontweight='bold')\n",
        "ax.set_ylabel('Actual Class', fontsize=25, fontweight='bold')\n",
        "# loop over data dimensions and create text annotations\n",
        "for i in range(meansp_confmat.shape[0]):\n",
        "    for j in range(meansp_confmat.shape[1]):\n",
        "        text = ax.text(j, i, \"{:.1f}%\".format(meansp_confmat[i, j]*100),\n",
        "                       ha=\"center\", va=\"center\", \n",
        "                       color=\"w\" if i != j else \"k\", \n",
        "                       fontsize=25, fontweight='bold')\n",
        "        \n",
        "from mpl_toolkits.axes_grid1.inset_locator import inset_axes\n",
        "axins = inset_axes(ax,\n",
        "                    width=\"5%\",  # width = 5% of parent_bbox width\n",
        "                    height=\"100%\",  # height : 50%\n",
        "                    loc='lower left',\n",
        "                    bbox_to_anchor=(1.05, 0., 1, 1),\n",
        "                    bbox_transform=ax.transAxes,\n",
        "                    borderpad=0,\n",
        "                    )\n",
        "cbar = fig.colorbar(im, cax=axins, ticks=[0.0, 0.2, 0.4, 0.6, 0.8, 1.0])\n",
        "cbar.ax.set_yticklabels(['0%', '20%', '40%', '60%', '80%', '100%'])\n",
        "cbar.ax.tick_params(labelsize=25)\n",
        "plt.show()"
      ],
      "execution_count": null,
      "outputs": [
        {
          "output_type": "display_data",
          "data": {
            "image/png": "[encoded data removed]",
            "text/plain": [
              "<Figure size 900x720 with 2 Axes>"
            ]
          },
          "metadata": {
            "tags": [],
            "needs_background": "light"
          }
        }
      ]
    }
  ]
}